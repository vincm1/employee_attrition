{
 "cells": [
  {
   "cell_type": "code",
   "execution_count": 1,
   "id": "e94da394",
   "metadata": {
    "_cell_guid": "b1076dfc-b9ad-4769-8c92-a6c4dae69d19",
    "_uuid": "8f2839f25d086af736a60e9eeb907d3b93b6e0e5",
    "execution": {
     "iopub.execute_input": "2024-01-04T13:51:35.923386Z",
     "iopub.status.busy": "2024-01-04T13:51:35.922771Z",
     "iopub.status.idle": "2024-01-04T13:51:36.336378Z",
     "shell.execute_reply": "2024-01-04T13:51:36.335249Z"
    },
    "papermill": {
     "duration": 0.424335,
     "end_time": "2024-01-04T13:51:36.338854",
     "exception": false,
     "start_time": "2024-01-04T13:51:35.914519",
     "status": "completed"
    },
    "tags": []
   },
   "outputs": [
    {
     "name": "stdout",
     "output_type": "stream",
     "text": [
      "/kaggle/input/ibm-hr-analytics-attrition-dataset/WA_Fn-UseC_-HR-Employee-Attrition.csv\n"
     ]
    }
   ],
   "source": [
    "# This Python 3 environment comes with many helpful analytics libraries installed\n",
    "# It is defined by the kaggle/python Docker image: https://github.com/kaggle/docker-python\n",
    "# For example, here's several helpful packages to load\n",
    "\n",
    "import numpy as np # linear algebra\n",
    "import pandas as pd # data processing, CSV file I/O (e.g. pd.read_csv)\n",
    "\n",
    "# Input data files are available in the read-only \"../input/\" directory\n",
    "# For example, running this (by clicking run or pressing Shift+Enter) will list all files under the input directory\n",
    "\n",
    "import os\n",
    "for dirname, _, filenames in os.walk('/kaggle/input'):\n",
    "    for filename in filenames:\n",
    "        print(os.path.join(dirname, filename))\n",
    "\n",
    "# You can write up to 20GB to the current directory (/kaggle/working/) that gets preserved as output when you create a version using \"Save & Run All\" \n",
    "# You can also write temporary files to /kaggle/temp/, but they won't be saved outside of the current session"
   ]
  },
  {
   "cell_type": "markdown",
   "id": "0ee077ab",
   "metadata": {
    "papermill": {
     "duration": 0.005296,
     "end_time": "2024-01-04T13:51:36.349847",
     "exception": false,
     "start_time": "2024-01-04T13:51:36.344551",
     "status": "completed"
    },
    "tags": []
   },
   "source": [
    "# 💼 Attrition @ IBM || Why employees quit?\n",
    "\n",
    "This project requires to develop a customer segmentation to define marketing strategy. \n",
    "\n",
    "The sample sataset summarizes the usage behavior of about 9000 active credit card holders during the last 6 months. The file is at a customer level with 18 behavioral variables.\n",
    "\n",
    "Dataset for this notebook consists of credit card usage behavior of customers with 18 behavioral features. Segmentation of customers can be used to define marketing strategies.\n",
    "\n",
    "***Why attrition is a problem for companies?***\n",
    "\n",
    "* New employee acquisition is more costly than retaining existing ones, due to onboarding time and resource expenditure\n",
    "* Could reduce employer image making it hard to attract new talents\n",
    "\n",
    "\n",
    "\n",
    "\n",
    "\n"
   ]
  },
  {
   "cell_type": "markdown",
   "id": "3550bbd9",
   "metadata": {
    "papermill": {
     "duration": 0.005437,
     "end_time": "2024-01-04T13:51:36.360989",
     "exception": false,
     "start_time": "2024-01-04T13:51:36.355552",
     "status": "completed"
    },
    "tags": []
   },
   "source": [
    "## Problem Statement\n",
    "Understanding when and why employees are likely to leave can inform strategies to boost employee retention and facilitate preemptive hiring planning. I will be using a systematic, step-by-step approach suitable for various machine learning problems. This project would fall under what is commonly known as **\"HR Anlytics\"**, **\"People Analytics\"**.\n",
    "\n",
    "In this study, we will attempt to solve the following **problem statement** is:\n",
    "\n",
    "* *What is the likelihood of an active employee leaving the company?*\n",
    "* *What are the key indicators of an employee leaving the company?*\n",
    "* *What policies or strategies can be adopted based on the results to improve employee retention?*\n",
    "\n",
    "Given that we have data on former employees, this is a standard supervised classification problem where the label is a binary variable, 0 (active employee), 1 (former employee). In this study, our target variable Y is the probability of an employee leaving the company."
   ]
  },
  {
   "cell_type": "markdown",
   "id": "a7a067b9",
   "metadata": {
    "papermill": {
     "duration": 0.005178,
     "end_time": "2024-01-04T13:51:36.372091",
     "exception": false,
     "start_time": "2024-01-04T13:51:36.366913",
     "status": "completed"
    },
    "tags": []
   },
   "source": [
    "## Table of contents\n",
    "\n",
    "#### 1. [Data preprocessing](#data-preprocessing)\n",
    "#### 2. [EDA](#eda)\n",
    "#### 2.1. [Numeric variables](#eda-numeric)\n",
    "#### 2.2. [Categoric variables](#eda-categoric)\n",
    "#### 2.3. [Target variable](#eda-target)"
   ]
  },
  {
   "cell_type": "markdown",
   "id": "1d76f38a",
   "metadata": {
    "papermill": {
     "duration": 0.005207,
     "end_time": "2024-01-04T13:51:36.382785",
     "exception": false,
     "start_time": "2024-01-04T13:51:36.377578",
     "status": "completed"
    },
    "tags": []
   },
   "source": [
    "<a id = \"data-preprocessing\"></a>\n",
    "# Data preprocessing"
   ]
  },
  {
   "cell_type": "code",
   "execution_count": 2,
   "id": "ec3fcb6f",
   "metadata": {
    "execution": {
     "iopub.execute_input": "2024-01-04T13:51:36.395840Z",
     "iopub.status.busy": "2024-01-04T13:51:36.395308Z",
     "iopub.status.idle": "2024-01-04T13:51:37.669026Z",
     "shell.execute_reply": "2024-01-04T13:51:37.668170Z"
    },
    "papermill": {
     "duration": 1.282884,
     "end_time": "2024-01-04T13:51:37.671404",
     "exception": false,
     "start_time": "2024-01-04T13:51:36.388520",
     "status": "completed"
    },
    "tags": []
   },
   "outputs": [],
   "source": [
    "import pandas as pd\n",
    "import numpy as np\n",
    "import matplotlib.pyplot as plt\n",
    "import seaborn as sns\n",
    "\n",
    "sns.set_style('darkgrid')"
   ]
  },
  {
   "cell_type": "code",
   "execution_count": 3,
   "id": "beab0475",
   "metadata": {
    "execution": {
     "iopub.execute_input": "2024-01-04T13:51:37.684510Z",
     "iopub.status.busy": "2024-01-04T13:51:37.684081Z",
     "iopub.status.idle": "2024-01-04T13:51:37.716792Z",
     "shell.execute_reply": "2024-01-04T13:51:37.715702Z"
    },
    "papermill": {
     "duration": 0.042431,
     "end_time": "2024-01-04T13:51:37.719553",
     "exception": false,
     "start_time": "2024-01-04T13:51:37.677122",
     "status": "completed"
    },
    "tags": []
   },
   "outputs": [],
   "source": [
    "df = pd.read_csv('/kaggle/input/ibm-hr-analytics-attrition-dataset/WA_Fn-UseC_-HR-Employee-Attrition.csv')"
   ]
  },
  {
   "cell_type": "code",
   "execution_count": 4,
   "id": "6f5348a8",
   "metadata": {
    "execution": {
     "iopub.execute_input": "2024-01-04T13:51:37.732730Z",
     "iopub.status.busy": "2024-01-04T13:51:37.732285Z",
     "iopub.status.idle": "2024-01-04T13:51:37.769252Z",
     "shell.execute_reply": "2024-01-04T13:51:37.767904Z"
    },
    "papermill": {
     "duration": 0.046465,
     "end_time": "2024-01-04T13:51:37.771721",
     "exception": false,
     "start_time": "2024-01-04T13:51:37.725256",
     "status": "completed"
    },
    "tags": []
   },
   "outputs": [
    {
     "data": {
      "text/html": [
       "<div>\n",
       "<style scoped>\n",
       "    .dataframe tbody tr th:only-of-type {\n",
       "        vertical-align: middle;\n",
       "    }\n",
       "\n",
       "    .dataframe tbody tr th {\n",
       "        vertical-align: top;\n",
       "    }\n",
       "\n",
       "    .dataframe thead th {\n",
       "        text-align: right;\n",
       "    }\n",
       "</style>\n",
       "<table border=\"1\" class=\"dataframe\">\n",
       "  <thead>\n",
       "    <tr style=\"text-align: right;\">\n",
       "      <th></th>\n",
       "      <th>Age</th>\n",
       "      <th>Attrition</th>\n",
       "      <th>BusinessTravel</th>\n",
       "      <th>DailyRate</th>\n",
       "      <th>Department</th>\n",
       "      <th>DistanceFromHome</th>\n",
       "      <th>Education</th>\n",
       "      <th>EducationField</th>\n",
       "      <th>EmployeeCount</th>\n",
       "      <th>EmployeeNumber</th>\n",
       "      <th>...</th>\n",
       "      <th>RelationshipSatisfaction</th>\n",
       "      <th>StandardHours</th>\n",
       "      <th>StockOptionLevel</th>\n",
       "      <th>TotalWorkingYears</th>\n",
       "      <th>TrainingTimesLastYear</th>\n",
       "      <th>WorkLifeBalance</th>\n",
       "      <th>YearsAtCompany</th>\n",
       "      <th>YearsInCurrentRole</th>\n",
       "      <th>YearsSinceLastPromotion</th>\n",
       "      <th>YearsWithCurrManager</th>\n",
       "    </tr>\n",
       "  </thead>\n",
       "  <tbody>\n",
       "    <tr>\n",
       "      <th>0</th>\n",
       "      <td>41</td>\n",
       "      <td>Yes</td>\n",
       "      <td>Travel_Rarely</td>\n",
       "      <td>1102</td>\n",
       "      <td>Sales</td>\n",
       "      <td>1</td>\n",
       "      <td>2</td>\n",
       "      <td>Life Sciences</td>\n",
       "      <td>1</td>\n",
       "      <td>1</td>\n",
       "      <td>...</td>\n",
       "      <td>1</td>\n",
       "      <td>80</td>\n",
       "      <td>0</td>\n",
       "      <td>8</td>\n",
       "      <td>0</td>\n",
       "      <td>1</td>\n",
       "      <td>6</td>\n",
       "      <td>4</td>\n",
       "      <td>0</td>\n",
       "      <td>5</td>\n",
       "    </tr>\n",
       "    <tr>\n",
       "      <th>1</th>\n",
       "      <td>49</td>\n",
       "      <td>No</td>\n",
       "      <td>Travel_Frequently</td>\n",
       "      <td>279</td>\n",
       "      <td>Research &amp; Development</td>\n",
       "      <td>8</td>\n",
       "      <td>1</td>\n",
       "      <td>Life Sciences</td>\n",
       "      <td>1</td>\n",
       "      <td>2</td>\n",
       "      <td>...</td>\n",
       "      <td>4</td>\n",
       "      <td>80</td>\n",
       "      <td>1</td>\n",
       "      <td>10</td>\n",
       "      <td>3</td>\n",
       "      <td>3</td>\n",
       "      <td>10</td>\n",
       "      <td>7</td>\n",
       "      <td>1</td>\n",
       "      <td>7</td>\n",
       "    </tr>\n",
       "  </tbody>\n",
       "</table>\n",
       "<p>2 rows × 35 columns</p>\n",
       "</div>"
      ],
      "text/plain": [
       "   Age Attrition     BusinessTravel  DailyRate              Department  \\\n",
       "0   41       Yes      Travel_Rarely       1102                   Sales   \n",
       "1   49        No  Travel_Frequently        279  Research & Development   \n",
       "\n",
       "   DistanceFromHome  Education EducationField  EmployeeCount  EmployeeNumber  \\\n",
       "0                 1          2  Life Sciences              1               1   \n",
       "1                 8          1  Life Sciences              1               2   \n",
       "\n",
       "   ...  RelationshipSatisfaction StandardHours  StockOptionLevel  \\\n",
       "0  ...                         1            80                 0   \n",
       "1  ...                         4            80                 1   \n",
       "\n",
       "   TotalWorkingYears  TrainingTimesLastYear WorkLifeBalance  YearsAtCompany  \\\n",
       "0                  8                      0               1               6   \n",
       "1                 10                      3               3              10   \n",
       "\n",
       "  YearsInCurrentRole  YearsSinceLastPromotion  YearsWithCurrManager  \n",
       "0                  4                        0                     5  \n",
       "1                  7                        1                     7  \n",
       "\n",
       "[2 rows x 35 columns]"
      ]
     },
     "execution_count": 4,
     "metadata": {},
     "output_type": "execute_result"
    }
   ],
   "source": [
    "df.head(2)"
   ]
  },
  {
   "cell_type": "code",
   "execution_count": 5,
   "id": "cf71da59",
   "metadata": {
    "execution": {
     "iopub.execute_input": "2024-01-04T13:51:37.785081Z",
     "iopub.status.busy": "2024-01-04T13:51:37.784677Z",
     "iopub.status.idle": "2024-01-04T13:51:37.805567Z",
     "shell.execute_reply": "2024-01-04T13:51:37.804365Z"
    },
    "papermill": {
     "duration": 0.030537,
     "end_time": "2024-01-04T13:51:37.808147",
     "exception": false,
     "start_time": "2024-01-04T13:51:37.777610",
     "status": "completed"
    },
    "tags": []
   },
   "outputs": [
    {
     "data": {
      "text/html": [
       "<div>\n",
       "<style scoped>\n",
       "    .dataframe tbody tr th:only-of-type {\n",
       "        vertical-align: middle;\n",
       "    }\n",
       "\n",
       "    .dataframe tbody tr th {\n",
       "        vertical-align: top;\n",
       "    }\n",
       "\n",
       "    .dataframe thead th {\n",
       "        text-align: right;\n",
       "    }\n",
       "</style>\n",
       "<table border=\"1\" class=\"dataframe\">\n",
       "  <thead>\n",
       "    <tr style=\"text-align: right;\">\n",
       "      <th></th>\n",
       "      <th>Age</th>\n",
       "      <th>Attrition</th>\n",
       "      <th>BusinessTravel</th>\n",
       "      <th>DailyRate</th>\n",
       "      <th>Department</th>\n",
       "      <th>DistanceFromHome</th>\n",
       "      <th>Education</th>\n",
       "      <th>EducationField</th>\n",
       "      <th>EmployeeCount</th>\n",
       "      <th>EmployeeNumber</th>\n",
       "      <th>...</th>\n",
       "      <th>RelationshipSatisfaction</th>\n",
       "      <th>StandardHours</th>\n",
       "      <th>StockOptionLevel</th>\n",
       "      <th>TotalWorkingYears</th>\n",
       "      <th>TrainingTimesLastYear</th>\n",
       "      <th>WorkLifeBalance</th>\n",
       "      <th>YearsAtCompany</th>\n",
       "      <th>YearsInCurrentRole</th>\n",
       "      <th>YearsSinceLastPromotion</th>\n",
       "      <th>YearsWithCurrManager</th>\n",
       "    </tr>\n",
       "  </thead>\n",
       "  <tbody>\n",
       "    <tr>\n",
       "      <th>0</th>\n",
       "      <td>41</td>\n",
       "      <td>Yes</td>\n",
       "      <td>Travel_Rarely</td>\n",
       "      <td>1102</td>\n",
       "      <td>Sales</td>\n",
       "      <td>1</td>\n",
       "      <td>2</td>\n",
       "      <td>Life Sciences</td>\n",
       "      <td>1</td>\n",
       "      <td>1</td>\n",
       "      <td>...</td>\n",
       "      <td>1</td>\n",
       "      <td>80</td>\n",
       "      <td>0</td>\n",
       "      <td>8</td>\n",
       "      <td>0</td>\n",
       "      <td>1</td>\n",
       "      <td>6</td>\n",
       "      <td>4</td>\n",
       "      <td>0</td>\n",
       "      <td>5</td>\n",
       "    </tr>\n",
       "    <tr>\n",
       "      <th>2</th>\n",
       "      <td>37</td>\n",
       "      <td>Yes</td>\n",
       "      <td>Travel_Rarely</td>\n",
       "      <td>1373</td>\n",
       "      <td>Research &amp; Development</td>\n",
       "      <td>2</td>\n",
       "      <td>2</td>\n",
       "      <td>Other</td>\n",
       "      <td>1</td>\n",
       "      <td>4</td>\n",
       "      <td>...</td>\n",
       "      <td>2</td>\n",
       "      <td>80</td>\n",
       "      <td>0</td>\n",
       "      <td>7</td>\n",
       "      <td>3</td>\n",
       "      <td>3</td>\n",
       "      <td>0</td>\n",
       "      <td>0</td>\n",
       "      <td>0</td>\n",
       "      <td>0</td>\n",
       "    </tr>\n",
       "  </tbody>\n",
       "</table>\n",
       "<p>2 rows × 35 columns</p>\n",
       "</div>"
      ],
      "text/plain": [
       "   Age Attrition BusinessTravel  DailyRate              Department  \\\n",
       "0   41       Yes  Travel_Rarely       1102                   Sales   \n",
       "2   37       Yes  Travel_Rarely       1373  Research & Development   \n",
       "\n",
       "   DistanceFromHome  Education EducationField  EmployeeCount  EmployeeNumber  \\\n",
       "0                 1          2  Life Sciences              1               1   \n",
       "2                 2          2          Other              1               4   \n",
       "\n",
       "   ...  RelationshipSatisfaction StandardHours  StockOptionLevel  \\\n",
       "0  ...                         1            80                 0   \n",
       "2  ...                         2            80                 0   \n",
       "\n",
       "   TotalWorkingYears  TrainingTimesLastYear WorkLifeBalance  YearsAtCompany  \\\n",
       "0                  8                      0               1               6   \n",
       "2                  7                      3               3               0   \n",
       "\n",
       "  YearsInCurrentRole  YearsSinceLastPromotion  YearsWithCurrManager  \n",
       "0                  4                        0                     5  \n",
       "2                  0                        0                     0  \n",
       "\n",
       "[2 rows x 35 columns]"
      ]
     },
     "execution_count": 5,
     "metadata": {},
     "output_type": "execute_result"
    }
   ],
   "source": [
    "df[df[\"Attrition\"] == \"Yes\"].head(2)"
   ]
  },
  {
   "cell_type": "code",
   "execution_count": 6,
   "id": "e366c0d0",
   "metadata": {
    "execution": {
     "iopub.execute_input": "2024-01-04T13:51:37.822545Z",
     "iopub.status.busy": "2024-01-04T13:51:37.821928Z",
     "iopub.status.idle": "2024-01-04T13:51:37.841249Z",
     "shell.execute_reply": "2024-01-04T13:51:37.840020Z"
    },
    "papermill": {
     "duration": 0.029314,
     "end_time": "2024-01-04T13:51:37.843696",
     "exception": false,
     "start_time": "2024-01-04T13:51:37.814382",
     "status": "completed"
    },
    "tags": []
   },
   "outputs": [
    {
     "data": {
      "text/html": [
       "<div>\n",
       "<style scoped>\n",
       "    .dataframe tbody tr th:only-of-type {\n",
       "        vertical-align: middle;\n",
       "    }\n",
       "\n",
       "    .dataframe tbody tr th {\n",
       "        vertical-align: top;\n",
       "    }\n",
       "\n",
       "    .dataframe thead th {\n",
       "        text-align: right;\n",
       "    }\n",
       "</style>\n",
       "<table border=\"1\" class=\"dataframe\">\n",
       "  <thead>\n",
       "    <tr style=\"text-align: right;\">\n",
       "      <th></th>\n",
       "      <th>Age</th>\n",
       "      <th>Attrition</th>\n",
       "      <th>BusinessTravel</th>\n",
       "      <th>DailyRate</th>\n",
       "      <th>Department</th>\n",
       "      <th>DistanceFromHome</th>\n",
       "      <th>Education</th>\n",
       "      <th>EducationField</th>\n",
       "      <th>EmployeeCount</th>\n",
       "      <th>EmployeeNumber</th>\n",
       "      <th>...</th>\n",
       "      <th>RelationshipSatisfaction</th>\n",
       "      <th>StandardHours</th>\n",
       "      <th>StockOptionLevel</th>\n",
       "      <th>TotalWorkingYears</th>\n",
       "      <th>TrainingTimesLastYear</th>\n",
       "      <th>WorkLifeBalance</th>\n",
       "      <th>YearsAtCompany</th>\n",
       "      <th>YearsInCurrentRole</th>\n",
       "      <th>YearsSinceLastPromotion</th>\n",
       "      <th>YearsWithCurrManager</th>\n",
       "    </tr>\n",
       "  </thead>\n",
       "  <tbody>\n",
       "    <tr>\n",
       "      <th>1</th>\n",
       "      <td>49</td>\n",
       "      <td>No</td>\n",
       "      <td>Travel_Frequently</td>\n",
       "      <td>279</td>\n",
       "      <td>Research &amp; Development</td>\n",
       "      <td>8</td>\n",
       "      <td>1</td>\n",
       "      <td>Life Sciences</td>\n",
       "      <td>1</td>\n",
       "      <td>2</td>\n",
       "      <td>...</td>\n",
       "      <td>4</td>\n",
       "      <td>80</td>\n",
       "      <td>1</td>\n",
       "      <td>10</td>\n",
       "      <td>3</td>\n",
       "      <td>3</td>\n",
       "      <td>10</td>\n",
       "      <td>7</td>\n",
       "      <td>1</td>\n",
       "      <td>7</td>\n",
       "    </tr>\n",
       "    <tr>\n",
       "      <th>3</th>\n",
       "      <td>33</td>\n",
       "      <td>No</td>\n",
       "      <td>Travel_Frequently</td>\n",
       "      <td>1392</td>\n",
       "      <td>Research &amp; Development</td>\n",
       "      <td>3</td>\n",
       "      <td>4</td>\n",
       "      <td>Life Sciences</td>\n",
       "      <td>1</td>\n",
       "      <td>5</td>\n",
       "      <td>...</td>\n",
       "      <td>3</td>\n",
       "      <td>80</td>\n",
       "      <td>0</td>\n",
       "      <td>8</td>\n",
       "      <td>3</td>\n",
       "      <td>3</td>\n",
       "      <td>8</td>\n",
       "      <td>7</td>\n",
       "      <td>3</td>\n",
       "      <td>0</td>\n",
       "    </tr>\n",
       "  </tbody>\n",
       "</table>\n",
       "<p>2 rows × 35 columns</p>\n",
       "</div>"
      ],
      "text/plain": [
       "   Age Attrition     BusinessTravel  DailyRate              Department  \\\n",
       "1   49        No  Travel_Frequently        279  Research & Development   \n",
       "3   33        No  Travel_Frequently       1392  Research & Development   \n",
       "\n",
       "   DistanceFromHome  Education EducationField  EmployeeCount  EmployeeNumber  \\\n",
       "1                 8          1  Life Sciences              1               2   \n",
       "3                 3          4  Life Sciences              1               5   \n",
       "\n",
       "   ...  RelationshipSatisfaction StandardHours  StockOptionLevel  \\\n",
       "1  ...                         4            80                 1   \n",
       "3  ...                         3            80                 0   \n",
       "\n",
       "   TotalWorkingYears  TrainingTimesLastYear WorkLifeBalance  YearsAtCompany  \\\n",
       "1                 10                      3               3              10   \n",
       "3                  8                      3               3               8   \n",
       "\n",
       "  YearsInCurrentRole  YearsSinceLastPromotion  YearsWithCurrManager  \n",
       "1                  7                        1                     7  \n",
       "3                  7                        3                     0  \n",
       "\n",
       "[2 rows x 35 columns]"
      ]
     },
     "execution_count": 6,
     "metadata": {},
     "output_type": "execute_result"
    }
   ],
   "source": [
    "df[df[\"Attrition\"] == \"No\"].head(2)"
   ]
  },
  {
   "cell_type": "code",
   "execution_count": 7,
   "id": "2da66bc4",
   "metadata": {
    "execution": {
     "iopub.execute_input": "2024-01-04T13:51:37.859995Z",
     "iopub.status.busy": "2024-01-04T13:51:37.859356Z",
     "iopub.status.idle": "2024-01-04T13:51:37.866689Z",
     "shell.execute_reply": "2024-01-04T13:51:37.865489Z"
    },
    "papermill": {
     "duration": 0.018899,
     "end_time": "2024-01-04T13:51:37.868886",
     "exception": false,
     "start_time": "2024-01-04T13:51:37.849987",
     "status": "completed"
    },
    "tags": []
   },
   "outputs": [
    {
     "data": {
      "text/plain": [
       "Index(['Age', 'Attrition', 'BusinessTravel', 'DailyRate', 'Department',\n",
       "       'DistanceFromHome', 'Education', 'EducationField', 'EmployeeCount',\n",
       "       'EmployeeNumber', 'EnvironmentSatisfaction', 'Gender', 'HourlyRate',\n",
       "       'JobInvolvement', 'JobLevel', 'JobRole', 'JobSatisfaction',\n",
       "       'MaritalStatus', 'MonthlyIncome', 'MonthlyRate', 'NumCompaniesWorked',\n",
       "       'Over18', 'OverTime', 'PercentSalaryHike', 'PerformanceRating',\n",
       "       'RelationshipSatisfaction', 'StandardHours', 'StockOptionLevel',\n",
       "       'TotalWorkingYears', 'TrainingTimesLastYear', 'WorkLifeBalance',\n",
       "       'YearsAtCompany', 'YearsInCurrentRole', 'YearsSinceLastPromotion',\n",
       "       'YearsWithCurrManager'],\n",
       "      dtype='object')"
      ]
     },
     "execution_count": 7,
     "metadata": {},
     "output_type": "execute_result"
    }
   ],
   "source": [
    "df.columns"
   ]
  },
  {
   "cell_type": "code",
   "execution_count": 8,
   "id": "59ec0c35",
   "metadata": {
    "execution": {
     "iopub.execute_input": "2024-01-04T13:51:37.884115Z",
     "iopub.status.busy": "2024-01-04T13:51:37.883423Z",
     "iopub.status.idle": "2024-01-04T13:51:37.991664Z",
     "shell.execute_reply": "2024-01-04T13:51:37.990470Z"
    },
    "papermill": {
     "duration": 0.118939,
     "end_time": "2024-01-04T13:51:37.994228",
     "exception": false,
     "start_time": "2024-01-04T13:51:37.875289",
     "status": "completed"
    },
    "tags": []
   },
   "outputs": [
    {
     "name": "stdout",
     "output_type": "stream",
     "text": [
      "<class 'pandas.core.frame.DataFrame'>\n",
      "RangeIndex: 1470 entries, 0 to 1469\n",
      "Data columns (total 35 columns):\n",
      " #   Column                    Non-Null Count  Dtype \n",
      "---  ------                    --------------  ----- \n",
      " 0   Age                       1470 non-null   int64 \n",
      " 1   Attrition                 1470 non-null   object\n",
      " 2   BusinessTravel            1470 non-null   object\n",
      " 3   DailyRate                 1470 non-null   int64 \n",
      " 4   Department                1470 non-null   object\n",
      " 5   DistanceFromHome          1470 non-null   int64 \n",
      " 6   Education                 1470 non-null   int64 \n",
      " 7   EducationField            1470 non-null   object\n",
      " 8   EmployeeCount             1470 non-null   int64 \n",
      " 9   EmployeeNumber            1470 non-null   int64 \n",
      " 10  EnvironmentSatisfaction   1470 non-null   int64 \n",
      " 11  Gender                    1470 non-null   object\n",
      " 12  HourlyRate                1470 non-null   int64 \n",
      " 13  JobInvolvement            1470 non-null   int64 \n",
      " 14  JobLevel                  1470 non-null   int64 \n",
      " 15  JobRole                   1470 non-null   object\n",
      " 16  JobSatisfaction           1470 non-null   int64 \n",
      " 17  MaritalStatus             1470 non-null   object\n",
      " 18  MonthlyIncome             1470 non-null   int64 \n",
      " 19  MonthlyRate               1470 non-null   int64 \n",
      " 20  NumCompaniesWorked        1470 non-null   int64 \n",
      " 21  Over18                    1470 non-null   object\n",
      " 22  OverTime                  1470 non-null   object\n",
      " 23  PercentSalaryHike         1470 non-null   int64 \n",
      " 24  PerformanceRating         1470 non-null   int64 \n",
      " 25  RelationshipSatisfaction  1470 non-null   int64 \n",
      " 26  StandardHours             1470 non-null   int64 \n",
      " 27  StockOptionLevel          1470 non-null   int64 \n",
      " 28  TotalWorkingYears         1470 non-null   int64 \n",
      " 29  TrainingTimesLastYear     1470 non-null   int64 \n",
      " 30  WorkLifeBalance           1470 non-null   int64 \n",
      " 31  YearsAtCompany            1470 non-null   int64 \n",
      " 32  YearsInCurrentRole        1470 non-null   int64 \n",
      " 33  YearsSinceLastPromotion   1470 non-null   int64 \n",
      " 34  YearsWithCurrManager      1470 non-null   int64 \n",
      "dtypes: int64(26), object(9)\n",
      "memory usage: 402.1+ KB\n"
     ]
    }
   ],
   "source": [
    "df.info()"
   ]
  },
  {
   "cell_type": "code",
   "execution_count": 9,
   "id": "c488ed6f",
   "metadata": {
    "execution": {
     "iopub.execute_input": "2024-01-04T13:51:38.009441Z",
     "iopub.status.busy": "2024-01-04T13:51:38.008827Z",
     "iopub.status.idle": "2024-01-04T13:51:38.022885Z",
     "shell.execute_reply": "2024-01-04T13:51:38.021426Z"
    },
    "papermill": {
     "duration": 0.024588,
     "end_time": "2024-01-04T13:51:38.025343",
     "exception": false,
     "start_time": "2024-01-04T13:51:38.000755",
     "status": "completed"
    },
    "tags": []
   },
   "outputs": [
    {
     "data": {
      "text/plain": [
       "['EmployeeCount', 'Over18', 'StandardHours']"
      ]
     },
     "execution_count": 9,
     "metadata": {},
     "output_type": "execute_result"
    }
   ],
   "source": [
    "# Assuming 'df' is your DataFrame\n",
    "unique_value_columns = [col for col in df.columns if df[col].nunique() == 1]\n",
    "unique_value_columns"
   ]
  },
  {
   "cell_type": "markdown",
   "id": "41c628bb",
   "metadata": {
    "papermill": {
     "duration": 0.006408,
     "end_time": "2024-01-04T13:51:38.038649",
     "exception": false,
     "start_time": "2024-01-04T13:51:38.032241",
     "status": "completed"
    },
    "tags": []
   },
   "source": [
    "These columns can be dropped as the only have one unique value"
   ]
  },
  {
   "cell_type": "code",
   "execution_count": 10,
   "id": "9383736e",
   "metadata": {
    "execution": {
     "iopub.execute_input": "2024-01-04T13:51:38.054076Z",
     "iopub.status.busy": "2024-01-04T13:51:38.053441Z",
     "iopub.status.idle": "2024-01-04T13:51:38.062979Z",
     "shell.execute_reply": "2024-01-04T13:51:38.061873Z"
    },
    "papermill": {
     "duration": 0.019743,
     "end_time": "2024-01-04T13:51:38.065122",
     "exception": false,
     "start_time": "2024-01-04T13:51:38.045379",
     "status": "completed"
    },
    "tags": []
   },
   "outputs": [
    {
     "data": {
      "text/plain": [
       "Index(['Age', 'Attrition', 'BusinessTravel', 'DailyRate', 'Department',\n",
       "       'DistanceFromHome', 'Education', 'EducationField', 'EmployeeNumber',\n",
       "       'EnvironmentSatisfaction', 'Gender', 'HourlyRate', 'JobInvolvement',\n",
       "       'JobLevel', 'JobRole', 'JobSatisfaction', 'MaritalStatus',\n",
       "       'MonthlyIncome', 'MonthlyRate', 'NumCompaniesWorked', 'OverTime',\n",
       "       'PercentSalaryHike', 'PerformanceRating', 'RelationshipSatisfaction',\n",
       "       'StockOptionLevel', 'TotalWorkingYears', 'TrainingTimesLastYear',\n",
       "       'WorkLifeBalance', 'YearsAtCompany', 'YearsInCurrentRole',\n",
       "       'YearsSinceLastPromotion', 'YearsWithCurrManager'],\n",
       "      dtype='object')"
      ]
     },
     "execution_count": 10,
     "metadata": {},
     "output_type": "execute_result"
    }
   ],
   "source": [
    "df = df.drop(columns=unique_value_columns, axis=1)\n",
    "df.columns"
   ]
  },
  {
   "cell_type": "code",
   "execution_count": 11,
   "id": "a042fc14",
   "metadata": {
    "execution": {
     "iopub.execute_input": "2024-01-04T13:51:38.081263Z",
     "iopub.status.busy": "2024-01-04T13:51:38.080625Z",
     "iopub.status.idle": "2024-01-04T13:51:38.090141Z",
     "shell.execute_reply": "2024-01-04T13:51:38.088955Z"
    },
    "papermill": {
     "duration": 0.020257,
     "end_time": "2024-01-04T13:51:38.092565",
     "exception": false,
     "start_time": "2024-01-04T13:51:38.072308",
     "status": "completed"
    },
    "tags": []
   },
   "outputs": [
    {
     "data": {
      "text/plain": [
       "(Index(['Age', 'DailyRate', 'DistanceFromHome', 'Education', 'EmployeeNumber',\n",
       "        'EnvironmentSatisfaction', 'HourlyRate', 'JobInvolvement', 'JobLevel',\n",
       "        'JobSatisfaction', 'MonthlyIncome', 'MonthlyRate', 'NumCompaniesWorked',\n",
       "        'PercentSalaryHike', 'PerformanceRating', 'RelationshipSatisfaction',\n",
       "        'StockOptionLevel', 'TotalWorkingYears', 'TrainingTimesLastYear',\n",
       "        'WorkLifeBalance', 'YearsAtCompany', 'YearsInCurrentRole',\n",
       "        'YearsSinceLastPromotion', 'YearsWithCurrManager'],\n",
       "       dtype='object'),\n",
       " Index(['Attrition', 'BusinessTravel', 'Department', 'EducationField', 'Gender',\n",
       "        'JobRole', 'MaritalStatus', 'OverTime'],\n",
       "       dtype='object'))"
      ]
     },
     "execution_count": 11,
     "metadata": {},
     "output_type": "execute_result"
    }
   ],
   "source": [
    "# define array for numeric and categorical vars\n",
    "\n",
    "numeric_columns = df.select_dtypes(include=['int64', 'float64']).columns\n",
    "categorical_columns = df.select_dtypes(include=['object', 'category']).columns\n",
    "\n",
    "numeric_columns, categorical_columns"
   ]
  },
  {
   "cell_type": "markdown",
   "id": "1593d22a",
   "metadata": {
    "papermill": {
     "duration": 0.007067,
     "end_time": "2024-01-04T13:51:38.106795",
     "exception": false,
     "start_time": "2024-01-04T13:51:38.099728",
     "status": "completed"
    },
    "tags": []
   },
   "source": [
    "<a id = \"eda\"></a>\n",
    "# Exploratory Data Analysis (EDA)"
   ]
  },
  {
   "cell_type": "code",
   "execution_count": 12,
   "id": "cc18e91c",
   "metadata": {
    "execution": {
     "iopub.execute_input": "2024-01-04T13:51:38.122677Z",
     "iopub.status.busy": "2024-01-04T13:51:38.122264Z",
     "iopub.status.idle": "2024-01-04T13:51:38.197036Z",
     "shell.execute_reply": "2024-01-04T13:51:38.195812Z"
    },
    "papermill": {
     "duration": 0.085748,
     "end_time": "2024-01-04T13:51:38.199624",
     "exception": false,
     "start_time": "2024-01-04T13:51:38.113876",
     "status": "completed"
    },
    "tags": []
   },
   "outputs": [
    {
     "data": {
      "text/html": [
       "<div>\n",
       "<style scoped>\n",
       "    .dataframe tbody tr th:only-of-type {\n",
       "        vertical-align: middle;\n",
       "    }\n",
       "\n",
       "    .dataframe tbody tr th {\n",
       "        vertical-align: top;\n",
       "    }\n",
       "\n",
       "    .dataframe thead th {\n",
       "        text-align: right;\n",
       "    }\n",
       "</style>\n",
       "<table border=\"1\" class=\"dataframe\">\n",
       "  <thead>\n",
       "    <tr style=\"text-align: right;\">\n",
       "      <th></th>\n",
       "      <th>Age</th>\n",
       "      <th>DailyRate</th>\n",
       "      <th>DistanceFromHome</th>\n",
       "      <th>Education</th>\n",
       "      <th>EmployeeNumber</th>\n",
       "      <th>EnvironmentSatisfaction</th>\n",
       "      <th>HourlyRate</th>\n",
       "      <th>JobInvolvement</th>\n",
       "      <th>JobLevel</th>\n",
       "      <th>JobSatisfaction</th>\n",
       "      <th>...</th>\n",
       "      <th>PerformanceRating</th>\n",
       "      <th>RelationshipSatisfaction</th>\n",
       "      <th>StockOptionLevel</th>\n",
       "      <th>TotalWorkingYears</th>\n",
       "      <th>TrainingTimesLastYear</th>\n",
       "      <th>WorkLifeBalance</th>\n",
       "      <th>YearsAtCompany</th>\n",
       "      <th>YearsInCurrentRole</th>\n",
       "      <th>YearsSinceLastPromotion</th>\n",
       "      <th>YearsWithCurrManager</th>\n",
       "    </tr>\n",
       "  </thead>\n",
       "  <tbody>\n",
       "    <tr>\n",
       "      <th>count</th>\n",
       "      <td>1470.000000</td>\n",
       "      <td>1470.000000</td>\n",
       "      <td>1470.000000</td>\n",
       "      <td>1470.000000</td>\n",
       "      <td>1470.000000</td>\n",
       "      <td>1470.000000</td>\n",
       "      <td>1470.000000</td>\n",
       "      <td>1470.000000</td>\n",
       "      <td>1470.000000</td>\n",
       "      <td>1470.000000</td>\n",
       "      <td>...</td>\n",
       "      <td>1470.000000</td>\n",
       "      <td>1470.000000</td>\n",
       "      <td>1470.000000</td>\n",
       "      <td>1470.000000</td>\n",
       "      <td>1470.000000</td>\n",
       "      <td>1470.000000</td>\n",
       "      <td>1470.000000</td>\n",
       "      <td>1470.000000</td>\n",
       "      <td>1470.000000</td>\n",
       "      <td>1470.000000</td>\n",
       "    </tr>\n",
       "    <tr>\n",
       "      <th>mean</th>\n",
       "      <td>36.923810</td>\n",
       "      <td>802.485714</td>\n",
       "      <td>9.192517</td>\n",
       "      <td>2.912925</td>\n",
       "      <td>1024.865306</td>\n",
       "      <td>2.721769</td>\n",
       "      <td>65.891156</td>\n",
       "      <td>2.729932</td>\n",
       "      <td>2.063946</td>\n",
       "      <td>2.728571</td>\n",
       "      <td>...</td>\n",
       "      <td>3.153741</td>\n",
       "      <td>2.712245</td>\n",
       "      <td>0.793878</td>\n",
       "      <td>11.279592</td>\n",
       "      <td>2.799320</td>\n",
       "      <td>2.761224</td>\n",
       "      <td>7.008163</td>\n",
       "      <td>4.229252</td>\n",
       "      <td>2.187755</td>\n",
       "      <td>4.123129</td>\n",
       "    </tr>\n",
       "    <tr>\n",
       "      <th>std</th>\n",
       "      <td>9.135373</td>\n",
       "      <td>403.509100</td>\n",
       "      <td>8.106864</td>\n",
       "      <td>1.024165</td>\n",
       "      <td>602.024335</td>\n",
       "      <td>1.093082</td>\n",
       "      <td>20.329428</td>\n",
       "      <td>0.711561</td>\n",
       "      <td>1.106940</td>\n",
       "      <td>1.102846</td>\n",
       "      <td>...</td>\n",
       "      <td>0.360824</td>\n",
       "      <td>1.081209</td>\n",
       "      <td>0.852077</td>\n",
       "      <td>7.780782</td>\n",
       "      <td>1.289271</td>\n",
       "      <td>0.706476</td>\n",
       "      <td>6.126525</td>\n",
       "      <td>3.623137</td>\n",
       "      <td>3.222430</td>\n",
       "      <td>3.568136</td>\n",
       "    </tr>\n",
       "    <tr>\n",
       "      <th>min</th>\n",
       "      <td>18.000000</td>\n",
       "      <td>102.000000</td>\n",
       "      <td>1.000000</td>\n",
       "      <td>1.000000</td>\n",
       "      <td>1.000000</td>\n",
       "      <td>1.000000</td>\n",
       "      <td>30.000000</td>\n",
       "      <td>1.000000</td>\n",
       "      <td>1.000000</td>\n",
       "      <td>1.000000</td>\n",
       "      <td>...</td>\n",
       "      <td>3.000000</td>\n",
       "      <td>1.000000</td>\n",
       "      <td>0.000000</td>\n",
       "      <td>0.000000</td>\n",
       "      <td>0.000000</td>\n",
       "      <td>1.000000</td>\n",
       "      <td>0.000000</td>\n",
       "      <td>0.000000</td>\n",
       "      <td>0.000000</td>\n",
       "      <td>0.000000</td>\n",
       "    </tr>\n",
       "    <tr>\n",
       "      <th>25%</th>\n",
       "      <td>30.000000</td>\n",
       "      <td>465.000000</td>\n",
       "      <td>2.000000</td>\n",
       "      <td>2.000000</td>\n",
       "      <td>491.250000</td>\n",
       "      <td>2.000000</td>\n",
       "      <td>48.000000</td>\n",
       "      <td>2.000000</td>\n",
       "      <td>1.000000</td>\n",
       "      <td>2.000000</td>\n",
       "      <td>...</td>\n",
       "      <td>3.000000</td>\n",
       "      <td>2.000000</td>\n",
       "      <td>0.000000</td>\n",
       "      <td>6.000000</td>\n",
       "      <td>2.000000</td>\n",
       "      <td>2.000000</td>\n",
       "      <td>3.000000</td>\n",
       "      <td>2.000000</td>\n",
       "      <td>0.000000</td>\n",
       "      <td>2.000000</td>\n",
       "    </tr>\n",
       "    <tr>\n",
       "      <th>50%</th>\n",
       "      <td>36.000000</td>\n",
       "      <td>802.000000</td>\n",
       "      <td>7.000000</td>\n",
       "      <td>3.000000</td>\n",
       "      <td>1020.500000</td>\n",
       "      <td>3.000000</td>\n",
       "      <td>66.000000</td>\n",
       "      <td>3.000000</td>\n",
       "      <td>2.000000</td>\n",
       "      <td>3.000000</td>\n",
       "      <td>...</td>\n",
       "      <td>3.000000</td>\n",
       "      <td>3.000000</td>\n",
       "      <td>1.000000</td>\n",
       "      <td>10.000000</td>\n",
       "      <td>3.000000</td>\n",
       "      <td>3.000000</td>\n",
       "      <td>5.000000</td>\n",
       "      <td>3.000000</td>\n",
       "      <td>1.000000</td>\n",
       "      <td>3.000000</td>\n",
       "    </tr>\n",
       "    <tr>\n",
       "      <th>75%</th>\n",
       "      <td>43.000000</td>\n",
       "      <td>1157.000000</td>\n",
       "      <td>14.000000</td>\n",
       "      <td>4.000000</td>\n",
       "      <td>1555.750000</td>\n",
       "      <td>4.000000</td>\n",
       "      <td>83.750000</td>\n",
       "      <td>3.000000</td>\n",
       "      <td>3.000000</td>\n",
       "      <td>4.000000</td>\n",
       "      <td>...</td>\n",
       "      <td>3.000000</td>\n",
       "      <td>4.000000</td>\n",
       "      <td>1.000000</td>\n",
       "      <td>15.000000</td>\n",
       "      <td>3.000000</td>\n",
       "      <td>3.000000</td>\n",
       "      <td>9.000000</td>\n",
       "      <td>7.000000</td>\n",
       "      <td>3.000000</td>\n",
       "      <td>7.000000</td>\n",
       "    </tr>\n",
       "    <tr>\n",
       "      <th>max</th>\n",
       "      <td>60.000000</td>\n",
       "      <td>1499.000000</td>\n",
       "      <td>29.000000</td>\n",
       "      <td>5.000000</td>\n",
       "      <td>2068.000000</td>\n",
       "      <td>4.000000</td>\n",
       "      <td>100.000000</td>\n",
       "      <td>4.000000</td>\n",
       "      <td>5.000000</td>\n",
       "      <td>4.000000</td>\n",
       "      <td>...</td>\n",
       "      <td>4.000000</td>\n",
       "      <td>4.000000</td>\n",
       "      <td>3.000000</td>\n",
       "      <td>40.000000</td>\n",
       "      <td>6.000000</td>\n",
       "      <td>4.000000</td>\n",
       "      <td>40.000000</td>\n",
       "      <td>18.000000</td>\n",
       "      <td>15.000000</td>\n",
       "      <td>17.000000</td>\n",
       "    </tr>\n",
       "  </tbody>\n",
       "</table>\n",
       "<p>8 rows × 24 columns</p>\n",
       "</div>"
      ],
      "text/plain": [
       "               Age    DailyRate  DistanceFromHome    Education  \\\n",
       "count  1470.000000  1470.000000       1470.000000  1470.000000   \n",
       "mean     36.923810   802.485714          9.192517     2.912925   \n",
       "std       9.135373   403.509100          8.106864     1.024165   \n",
       "min      18.000000   102.000000          1.000000     1.000000   \n",
       "25%      30.000000   465.000000          2.000000     2.000000   \n",
       "50%      36.000000   802.000000          7.000000     3.000000   \n",
       "75%      43.000000  1157.000000         14.000000     4.000000   \n",
       "max      60.000000  1499.000000         29.000000     5.000000   \n",
       "\n",
       "       EmployeeNumber  EnvironmentSatisfaction   HourlyRate  JobInvolvement  \\\n",
       "count     1470.000000              1470.000000  1470.000000     1470.000000   \n",
       "mean      1024.865306                 2.721769    65.891156        2.729932   \n",
       "std        602.024335                 1.093082    20.329428        0.711561   \n",
       "min          1.000000                 1.000000    30.000000        1.000000   \n",
       "25%        491.250000                 2.000000    48.000000        2.000000   \n",
       "50%       1020.500000                 3.000000    66.000000        3.000000   \n",
       "75%       1555.750000                 4.000000    83.750000        3.000000   \n",
       "max       2068.000000                 4.000000   100.000000        4.000000   \n",
       "\n",
       "          JobLevel  JobSatisfaction  ...  PerformanceRating  \\\n",
       "count  1470.000000      1470.000000  ...        1470.000000   \n",
       "mean      2.063946         2.728571  ...           3.153741   \n",
       "std       1.106940         1.102846  ...           0.360824   \n",
       "min       1.000000         1.000000  ...           3.000000   \n",
       "25%       1.000000         2.000000  ...           3.000000   \n",
       "50%       2.000000         3.000000  ...           3.000000   \n",
       "75%       3.000000         4.000000  ...           3.000000   \n",
       "max       5.000000         4.000000  ...           4.000000   \n",
       "\n",
       "       RelationshipSatisfaction  StockOptionLevel  TotalWorkingYears  \\\n",
       "count               1470.000000       1470.000000        1470.000000   \n",
       "mean                   2.712245          0.793878          11.279592   \n",
       "std                    1.081209          0.852077           7.780782   \n",
       "min                    1.000000          0.000000           0.000000   \n",
       "25%                    2.000000          0.000000           6.000000   \n",
       "50%                    3.000000          1.000000          10.000000   \n",
       "75%                    4.000000          1.000000          15.000000   \n",
       "max                    4.000000          3.000000          40.000000   \n",
       "\n",
       "       TrainingTimesLastYear  WorkLifeBalance  YearsAtCompany  \\\n",
       "count            1470.000000      1470.000000     1470.000000   \n",
       "mean                2.799320         2.761224        7.008163   \n",
       "std                 1.289271         0.706476        6.126525   \n",
       "min                 0.000000         1.000000        0.000000   \n",
       "25%                 2.000000         2.000000        3.000000   \n",
       "50%                 3.000000         3.000000        5.000000   \n",
       "75%                 3.000000         3.000000        9.000000   \n",
       "max                 6.000000         4.000000       40.000000   \n",
       "\n",
       "       YearsInCurrentRole  YearsSinceLastPromotion  YearsWithCurrManager  \n",
       "count         1470.000000              1470.000000           1470.000000  \n",
       "mean             4.229252                 2.187755              4.123129  \n",
       "std              3.623137                 3.222430              3.568136  \n",
       "min              0.000000                 0.000000              0.000000  \n",
       "25%              2.000000                 0.000000              2.000000  \n",
       "50%              3.000000                 1.000000              3.000000  \n",
       "75%              7.000000                 3.000000              7.000000  \n",
       "max             18.000000                15.000000             17.000000  \n",
       "\n",
       "[8 rows x 24 columns]"
      ]
     },
     "execution_count": 12,
     "metadata": {},
     "output_type": "execute_result"
    }
   ],
   "source": [
    "df.describe()"
   ]
  },
  {
   "cell_type": "markdown",
   "id": "1a53a7fa",
   "metadata": {
    "papermill": {
     "duration": 0.007236,
     "end_time": "2024-01-04T13:51:38.214329",
     "exception": false,
     "start_time": "2024-01-04T13:51:38.207093",
     "status": "completed"
    },
    "tags": []
   },
   "source": [
    "<a id = \"eda-numeric\"></a>\n",
    "#### Numeric variables overview"
   ]
  },
  {
   "cell_type": "code",
   "execution_count": null,
   "id": "851cf382",
   "metadata": {
    "papermill": {
     "duration": 0.007119,
     "end_time": "2024-01-04T13:51:38.229214",
     "exception": false,
     "start_time": "2024-01-04T13:51:38.222095",
     "status": "completed"
    },
    "tags": []
   },
   "outputs": [],
   "source": []
  },
  {
   "cell_type": "markdown",
   "id": "42b984ba",
   "metadata": {
    "papermill": {
     "duration": 0.007672,
     "end_time": "2024-01-04T13:51:38.244795",
     "exception": false,
     "start_time": "2024-01-04T13:51:38.237123",
     "status": "completed"
    },
    "tags": []
   },
   "source": [
    "<a id = \"eda-categoric\"></a>\n",
    "#### Categoric variables"
   ]
  },
  {
   "cell_type": "markdown",
   "id": "dd109346",
   "metadata": {
    "papermill": {
     "duration": 0.007579,
     "end_time": "2024-01-04T13:51:38.260169",
     "exception": false,
     "start_time": "2024-01-04T13:51:38.252590",
     "status": "completed"
    },
    "tags": []
   },
   "source": [
    "<a id = \"eda-target\"></a>\n",
    "#### Target variable"
   ]
  },
  {
   "cell_type": "code",
   "execution_count": 13,
   "id": "2142150b",
   "metadata": {
    "execution": {
     "iopub.execute_input": "2024-01-04T13:51:38.277306Z",
     "iopub.status.busy": "2024-01-04T13:51:38.276585Z",
     "iopub.status.idle": "2024-01-04T13:51:38.686262Z",
     "shell.execute_reply": "2024-01-04T13:51:38.685182Z"
    },
    "papermill": {
     "duration": 0.421133,
     "end_time": "2024-01-04T13:51:38.688796",
     "exception": false,
     "start_time": "2024-01-04T13:51:38.267663",
     "status": "completed"
    },
    "tags": []
   },
   "outputs": [
    {
     "data": {
      "image/png": "[encoded data removed]",
      "text/plain": [
       "<Figure size 1200x600 with 2 Axes>"
      ]
     },
     "metadata": {},
     "output_type": "display_data"
    }
   ],
   "source": [
    "fig, ax = plt.subplots(1,2, figsize=(12,6))\n",
    "\n",
    "ax[0].pie(df.Attrition.value_counts(), labels=df.Attrition.unique(), autopct='%1.1f%%', startangle=140)\n",
    "ax[0].set_title(\"Attrition distribution\")\n",
    "\n",
    "ax[1].bar(df.Attrition.unique(), df.Attrition.value_counts(), color=[\"darkblue\", \"darkorange\"])\n",
    "for bars in ax[1].containers:\n",
    "    ax[1].bar_label(bars)\n",
    "\n",
    "plt.title(\"Attribution distribution\")\n",
    "plt.show()"
   ]
  },
  {
   "cell_type": "markdown",
   "id": "e66dd0f8",
   "metadata": {
    "papermill": {
     "duration": 0.008309,
     "end_time": "2024-01-04T13:51:38.705594",
     "exception": false,
     "start_time": "2024-01-04T13:51:38.697285",
     "status": "completed"
    },
    "tags": []
   },
   "source": [
    "As shown on the chart above, we see this is an imbalanced class problem. Indeed, the percentage of Current Employees in our dataset is 83.9% and the percentage of Ex-employees is: 16.1%\n",
    "\n",
    "Machine learning algorithms typically work best when the number of instances of each classes are roughly equal. We will have to address this target feature imbalance prior to implementing our Machine Learning algorithms."
   ]
  }
 ],
 "metadata": {
  "kaggle": {
   "accelerator": "none",
   "dataSources": [
    {
     "datasetId": 1067,
     "sourceId": 1925,
     "sourceType": "datasetVersion"
    }
   ],
   "dockerImageVersionId": 30626,
   "isGpuEnabled": false,
   "isInternetEnabled": true,
   "language": "python",
   "sourceType": "notebook"
  },
  "kernelspec": {
   "display_name": "Python 3",
   "language": "python",
   "name": "python3"
  },
  "language_info": {
   "codemirror_mode": {
    "name": "ipython",
    "version": 3
   },
   "file_extension": ".py",
   "mimetype": "text/x-python",
   "name": "python",
   "nbconvert_exporter": "python",
   "pygments_lexer": "ipython3",
   "version": "3.10.12"
  },
  "papermill": {
   "default_parameters": {},
   "duration": 6.544943,
   "end_time": "2024-01-04T13:51:39.336951",
   "environment_variables": {},
   "exception": null,
   "input_path": "__notebook__.ipynb",
   "output_path": "__notebook__.ipynb",
   "parameters": {},
   "start_time": "2024-01-04T13:51:32.792008",
   "version": "2.4.0"
  }
 },
 "nbformat": 4,
 "nbformat_minor": 5
}
