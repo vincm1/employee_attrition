{
 "cells": [
  {
   "cell_type": "code",
   "execution_count": 1,
   "id": "fe3d0373",
   "metadata": {
    "_cell_guid": "b1076dfc-b9ad-4769-8c92-a6c4dae69d19",
    "_uuid": "8f2839f25d086af736a60e9eeb907d3b93b6e0e5",
    "execution": {
     "iopub.execute_input": "2024-01-04T12:04:27.795283Z",
     "iopub.status.busy": "2024-01-04T12:04:27.794428Z",
     "iopub.status.idle": "2024-01-04T12:04:28.253804Z",
     "shell.execute_reply": "2024-01-04T12:04:28.252313Z"
    },
    "papermill": {
     "duration": 0.467751,
     "end_time": "2024-01-04T12:04:28.257126",
     "exception": false,
     "start_time": "2024-01-04T12:04:27.789375",
     "status": "completed"
    },
    "tags": []
   },
   "outputs": [
    {
     "name": "stdout",
     "output_type": "stream",
     "text": [
      "/kaggle/input/ibm-hr-analytics-attrition-dataset/WA_Fn-UseC_-HR-Employee-Attrition.csv\n"
     ]
    }
   ],
   "source": [
    "# This Python 3 environment comes with many helpful analytics libraries installed\n",
    "# It is defined by the kaggle/python Docker image: https://github.com/kaggle/docker-python\n",
    "# For example, here's several helpful packages to load\n",
    "\n",
    "import numpy as np # linear algebra\n",
    "import pandas as pd # data processing, CSV file I/O (e.g. pd.read_csv)\n",
    "\n",
    "# Input data files are available in the read-only \"../input/\" directory\n",
    "# For example, running this (by clicking run or pressing Shift+Enter) will list all files under the input directory\n",
    "\n",
    "import os\n",
    "for dirname, _, filenames in os.walk('/kaggle/input'):\n",
    "    for filename in filenames:\n",
    "        print(os.path.join(dirname, filename))\n",
    "\n",
    "# You can write up to 20GB to the current directory (/kaggle/working/) that gets preserved as output when you create a version using \"Save & Run All\" \n",
    "# You can also write temporary files to /kaggle/temp/, but they won't be saved outside of the current session"
   ]
  },
  {
   "cell_type": "markdown",
   "id": "663c92b8",
   "metadata": {
    "papermill": {
     "duration": 0.002287,
     "end_time": "2024-01-04T12:04:28.262196",
     "exception": false,
     "start_time": "2024-01-04T12:04:28.259909",
     "status": "completed"
    },
    "tags": []
   },
   "source": [
    "# 💼 Attrition @ IBM || Why employees quit?\n",
    "\n",
    "This project requires to develop a customer segmentation to define marketing strategy. \n",
    "\n",
    "The sample sataset summarizes the usage behavior of about 9000 active credit card holders during the last 6 months. The file is at a customer level with 18 behavioral variables.\n",
    "\n",
    "Dataset for this notebook consists of credit card usage behavior of customers with 18 behavioral features. Segmentation of customers can be used to define marketing strategies."
   ]
  },
  {
   "cell_type": "code",
   "execution_count": null,
   "id": "fb5dcd92",
   "metadata": {
    "papermill": {
     "duration": 0.0022,
     "end_time": "2024-01-04T12:04:28.267068",
     "exception": false,
     "start_time": "2024-01-04T12:04:28.264868",
     "status": "completed"
    },
    "tags": []
   },
   "outputs": [],
   "source": []
  }
 ],
 "metadata": {
  "kaggle": {
   "accelerator": "none",
   "dataSources": [
    {
     "datasetId": 1067,
     "sourceId": 1925,
     "sourceType": "datasetVersion"
    }
   ],
   "dockerImageVersionId": 30626,
   "isGpuEnabled": false,
   "isInternetEnabled": true,
   "language": "python",
   "sourceType": "notebook"
  },
  "kernelspec": {
   "display_name": "Python 3",
   "language": "python",
   "name": "python3"
  },
  "language_info": {
   "codemirror_mode": {
    "name": "ipython",
    "version": 3
   },
   "file_extension": ".py",
   "mimetype": "text/x-python",
   "name": "python",
   "nbconvert_exporter": "python",
   "pygments_lexer": "ipython3",
   "version": "3.10.12"
  },
  "papermill": {
   "default_parameters": {},
   "duration": 4.639188,
   "end_time": "2024-01-04T12:04:28.791623",
   "environment_variables": {},
   "exception": null,
   "input_path": "__notebook__.ipynb",
   "output_path": "__notebook__.ipynb",
   "parameters": {},
   "start_time": "2024-01-04T12:04:24.152435",
   "version": "2.4.0"
  }
 },
 "nbformat": 4,
 "nbformat_minor": 5
}
